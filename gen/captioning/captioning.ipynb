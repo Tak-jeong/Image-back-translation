{
 "cells": [
  {
   "cell_type": "code",
   "execution_count": 10,
   "metadata": {},
   "outputs": [],
   "source": [
    "import os\n",
    "import torch\n",
    "from PIL import Image\n",
    "from pathlib import Path\n",
    "\n",
    "from lavis.models import model_zoo\n",
    "from lavis.models import load_model_and_preprocess"
   ]
  },
  {
   "cell_type": "code",
   "execution_count": 11,
   "metadata": {},
   "outputs": [
    {
     "name": "stdout",
     "output_type": "stream",
     "text": [
      "Device: cuda\n",
      "Current cuda device: 0\n",
      "Count of using GPUs: 8\n"
     ]
    }
   ],
   "source": [
    "os.environ[\"CUDA_DEVICE_ORDER\"]=\"PCI_BUS_ID\"  # Arrange GPU devices starting from 0\n",
    "os.environ[\"CUDA_VISIBLE_DEVICES\"]= \"0\"  # Set the GPU 0 to use\n",
    "device = torch.device(\"cuda\" if torch.cuda.is_available() else \"cpu\")\n",
    "\n",
    "print('Device:', device)\n",
    "print('Current cuda device:', torch.cuda.current_device())\n",
    "print('Count of using GPUs:', torch.cuda.device_count())\n"
   ]
  },
  {
   "cell_type": "code",
   "execution_count": 12,
   "metadata": {},
   "outputs": [],
   "source": [
    "# loads BLIP caption base model, with finetuned checkpoints on MSCOCO captioning dataset.\n",
    "# this also loads the associated image processors\n",
    "model, vis_processors, _ = load_model_and_preprocess(name=\"blip_caption\", model_type=\"large_coco\", is_eval=True, device=device)"
   ]
  },
  {
   "cell_type": "code",
   "execution_count": 13,
   "metadata": {},
   "outputs": [],
   "source": [
    "Dir = Path('/data1/ImageNet1K/Annotations/Data/CLS-LOC/train_1000/')\n",
    "fileEx = r'.JPEG'"
   ]
  },
  {
   "cell_type": "code",
   "execution_count": 14,
   "metadata": {},
   "outputs": [],
   "source": [
    "def make_dir_list(dirname):\n",
    "    dir_list = []\n",
    "    \n",
    "    for file in os.listdir(dirname):\n",
    "        d = os.path.join(dirname, file)\n",
    "        if os.path.isdir(d):\n",
    "            dir_list.append(d)\n",
    "    return dir_list"
   ]
  },
  {
   "cell_type": "code",
   "execution_count": 15,
   "metadata": {},
   "outputs": [
    {
     "name": "stdout",
     "output_type": "stream",
     "text": [
      "1000\n"
     ]
    }
   ],
   "source": [
    "print(len(make_dir_list(Dir)))"
   ]
  },
  {
   "cell_type": "code",
   "execution_count": 16,
   "metadata": {},
   "outputs": [],
   "source": [
    "def get_jpeg_list(Dir, file_format):\n",
    "    JPEG_list = [file for file in os.listdir(Dir) if file.endswith(file_format)]\n",
    "    return JPEG_list"
   ]
  },
  {
   "cell_type": "code",
   "execution_count": 17,
   "metadata": {},
   "outputs": [],
   "source": [
    "def make_csv(path):\n",
    "    f = open(\"/data1/ImageNet1K/Annotations/Data/CLS-LOC/new_csv/\"\n",
    "     + str(path).split(\"/\")[-1] + \".csv\",\"w\",encoding=\"UTF-8\")\n",
    "    f.write(\"org_img_path,caption\\n\")\n",
    "    \n",
    "    for file in os.listdir(path):\n",
    "        w_path = os.path.join(path, file)\n",
    "        raw_image = Image.open(w_path).convert('RGB')\n",
    "        \n",
    "        image = vis_processors[\"eval\"](raw_image).unsqueeze(0).to(device)\n",
    "\n",
    "        # generate caption\n",
    "        text = model.generate({\"image\": image})\n",
    "        \n",
    "        f.write(w_path + \",\" + text[0] + \"\\n\")\n",
    "    f.close()"
   ]
  },
  {
   "cell_type": "code",
   "execution_count": null,
   "metadata": {},
   "outputs": [],
   "source": [
    "for dir in make_dir_list(Dir):\n",
    "    csv = \"/home/datasets/ImageNet1K/ILSVRC/Data/CLS-LOC/train_csv/\" + str(dir).split(\"/\")[-1] + \".csv\"\n",
    "\n",
    "    print(dir)\n",
    "    \n",
    "    break"
   ]
  }
 ],
 "metadata": {
  "kernelspec": {
   "display_name": "lavis",
   "language": "python",
   "name": "python3"
  },
  "language_info": {
   "codemirror_mode": {
    "name": "ipython",
    "version": 3
   },
   "file_extension": ".py",
   "mimetype": "text/x-python",
   "name": "python",
   "nbconvert_exporter": "python",
   "pygments_lexer": "ipython3",
   "version": "3.8.16"
  }
 },
 "nbformat": 4,
 "nbformat_minor": 2
}
