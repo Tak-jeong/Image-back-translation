{
 "cells": [
  {
   "cell_type": "code",
   "execution_count": 5,
   "metadata": {},
   "outputs": [],
   "source": [
    "import os\n",
    "import shutil\n",
    "from tqdm import tqdm\n",
    "\n",
    "# 원본 ImageNet1k 디렉토리 경로\n",
    "src_dir = '/mnt/nas65/Dataset/ImageNet1K/ILSVRC/Data/CLS-LOC/train'\n",
    "# 목표 디렉토리 경로\n",
    "dst_dir = '/ssd_1/tak/train_10percent'"
   ]
  },
  {
   "cell_type": "code",
   "execution_count": 6,
   "metadata": {},
   "outputs": [
    {
     "name": "stderr",
     "output_type": "stream",
     "text": [
      "Copying images:   0%|          | 0/1000 [00:00<?, ?it/s]"
     ]
    },
    {
     "name": "stderr",
     "output_type": "stream",
     "text": [
      "Copying images: 100%|██████████| 1000/1000 [6:07:24<00:00, 22.04s/it]   \n"
     ]
    }
   ],
   "source": [
    "sampling_ratio = 0.1\n",
    "# 각 클래스 폴더 탐색\n",
    "for class_folder in tqdm(os.listdir(src_dir), desc=\"Copying images\"):\n",
    "    src_class_folder = os.path.join(src_dir, class_folder)\n",
    "    dst_class_folder = os.path.join(dst_dir, class_folder)\n",
    "    \n",
    "    # 목표 디렉토리에 클래스 폴더 생성\n",
    "    os.makedirs(dst_class_folder, exist_ok=True)\n",
    "    \n",
    "    # 클래스 폴더 내 이미지 정렬\n",
    "    image_files = sorted(os.listdir(src_class_folder))\n",
    "    num_samples = int(len(image_files) * sampling_ratio)\n",
    "\n",
    "    \n",
    "    \n",
    "    # 상위 n개 이미지 선택\n",
    "    selected_images = image_files[:num_samples]\n",
    "      \n",
    "    # 선택된 이미지를 목표 디렉토리로 복사\n",
    "    for image in selected_images:\n",
    "        src_image_path = os.path.join(src_class_folder, image)\n",
    "        dst_image_path = os.path.join(dst_class_folder, image)\n",
    "        shutil.copy(src_image_path, dst_image_path)"
   ]
  },
  {
   "cell_type": "code",
   "execution_count": null,
   "metadata": {},
   "outputs": [],
   "source": [
    "# 복사한 이미지가 있는 원래의 폴더\n",
    "src_dir = '/data1/ImageNet1K/Annotations/Data/CLS-LOC/train_1000'\n",
    "\n",
    "# 대응하는 이미지를 찾을 폴더\n",
    "lookup_dir = '/mnt/nas65/Dataset/ImageNet1K/ILSVRC/Data/CLS-LOC/train_diff'\n",
    "\n",
    "# 이미지를 복사할 새로운 폴더\n",
    "dst_dir = '/ssd1/tak/train_10percent_IBT'"
   ]
  },
  {
   "cell_type": "code",
   "execution_count": null,
   "metadata": {},
   "outputs": [],
   "source": [
    "for class_folder in tqdm(os.listdir(src_dir), desc=\"Copying corresponding images\"):\n",
    "    src_class_folder = os.path.join(src_dir, class_folder)\n",
    "    lookup_class_folder = os.path.join(lookup_dir, class_folder)\n",
    "    dst_class_folder = os.path.join(dst_dir, class_folder)\n",
    "    \n",
    "    # 새로운 폴더에 클래스 폴더 생성\n",
    "    os.makedirs(dst_class_folder, exist_ok=True)\n",
    "    \n",
    "    # 원래의 클래스 폴더 내 이미지 탐색\n",
    "    for image_file in os.listdir(src_class_folder):\n",
    "        # 이미지 파일 이름에서 확장자를 제거하고 마지막 부분만 추출 (예: n01440764_10026)\n",
    "        base_name = os.path.splitext(image_file)[0].split('_')[-1]\n",
    "        \n",
    "        # 대응하는 이미지 파일들 찾기 (예: 10026_0.png, 10026_1.png, ..., 10026_5.png)\n",
    "        for i in range(5):  # 0부터 5까지\n",
    "            corresponding_image = f\"{base_name}_{i}.png\"\n",
    "            src_image_path = os.path.join(lookup_class_folder, corresponding_image)\n",
    "            dst_image_path = os.path.join(dst_class_folder, corresponding_image)\n",
    "            \n",
    "            # 대응하는 이미지 파일을 새로운 폴더에 복사\n",
    "            if os.path.exists(src_image_path):\n",
    "                shutil.copy(src_image_path, dst_image_path)"
   ]
  }
 ],
 "metadata": {
  "kernelspec": {
   "display_name": "lavis",
   "language": "python",
   "name": "python3"
  },
  "language_info": {
   "codemirror_mode": {
    "name": "ipython",
    "version": 3
   },
   "file_extension": ".py",
   "mimetype": "text/x-python",
   "name": "python",
   "nbconvert_exporter": "python",
   "pygments_lexer": "ipython3",
   "version": "3.8.5"
  }
 },
 "nbformat": 4,
 "nbformat_minor": 2
}
