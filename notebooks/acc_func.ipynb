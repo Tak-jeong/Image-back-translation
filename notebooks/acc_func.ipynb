{
 "cells": [
  {
   "cell_type": "code",
   "execution_count": 10,
   "metadata": {},
   "outputs": [
    {
     "ename": "NameError",
     "evalue": "name '__file__' is not defined",
     "output_type": "error",
     "traceback": [
      "\u001b[0;31m---------------------------------------------------------------------------\u001b[0m",
      "\u001b[0;31mNameError\u001b[0m                                 Traceback (most recent call last)",
      "\u001b[1;32m/home/tak/IBT/Image-back-translation/notebooks/acc_func.ipynb Cell 1\u001b[0m line \u001b[0;36m3\n\u001b[1;32m      <a href='vscode-notebook-cell://ssh-remote%2B222/home/tak/IBT/Image-back-translation/notebooks/acc_func.ipynb#W0sdnNjb2RlLXJlbW90ZQ%3D%3D?line=0'>1</a>\u001b[0m \u001b[39mimport\u001b[39;00m \u001b[39msys\u001b[39;00m\n\u001b[1;32m      <a href='vscode-notebook-cell://ssh-remote%2B222/home/tak/IBT/Image-back-translation/notebooks/acc_func.ipynb#W0sdnNjb2RlLXJlbW90ZQ%3D%3D?line=1'>2</a>\u001b[0m \u001b[39mimport\u001b[39;00m \u001b[39mos\u001b[39;00m\n\u001b[0;32m----> <a href='vscode-notebook-cell://ssh-remote%2B222/home/tak/IBT/Image-back-translation/notebooks/acc_func.ipynb#W0sdnNjb2RlLXJlbW90ZQ%3D%3D?line=2'>3</a>\u001b[0m sys\u001b[39m.\u001b[39mpath\u001b[39m.\u001b[39mappend(os\u001b[39m.\u001b[39mpath\u001b[39m.\u001b[39mdirname(os\u001b[39m.\u001b[39mpath\u001b[39m.\u001b[39mabspath(os\u001b[39m.\u001b[39mpath\u001b[39m.\u001b[39mdirname(\u001b[39m__file__\u001b[39;49m))))\n\u001b[1;32m      <a href='vscode-notebook-cell://ssh-remote%2B222/home/tak/IBT/Image-back-translation/notebooks/acc_func.ipynb#W0sdnNjb2RlLXJlbW90ZQ%3D%3D?line=4'>5</a>\u001b[0m \u001b[39mfrom\u001b[39;00m \u001b[39m.\u001b[39;00m\u001b[39m.\u001b[39;00m\u001b[39msrc\u001b[39;00m\u001b[39m.\u001b[39;00m\u001b[39mdata\u001b[39;00m\u001b[39m.\u001b[39;00m\u001b[39mcomponents\u001b[39;00m \u001b[39mimport\u001b[39;00m CutMixUp\n",
      "\u001b[0;31mNameError\u001b[0m: name '__file__' is not defined"
     ]
    }
   ],
   "source": [
    "import sys\n",
    "import os\n",
    "sys.path.append(os.path.dirname(os.path.abspath(os.path.dirname(__file__))))\n",
    "\n",
    "from ..src.data.components import CutMixUp"
   ]
  },
  {
   "cell_type": "code",
   "execution_count": null,
   "metadata": {},
   "outputs": [],
   "source": [
    "from torchmetrics import Accuracy\n",
    "\n",
    "def top_k_accuracy(preds, targets, top_k=(1, 2)):\n",
    "    top_k_accuracies = {}\n",
    "    \n",
    "    # Get the top k indices\n",
    "    top_k_indices = torch.topk(preds, max(top_k), dim=1)[1]\n",
    "    \n",
    "    for k in top_k:\n",
    "        correct = torch.any(top_k_indices[:, :k] == targets.unsqueeze(1), dim=1).float()\n",
    "        top_k_accuracies[f\"top_{k}\"] = correct.mean()\n",
    "        \n",
    "    return top_k_accuracies\n",
    "\n",
    "# 예제\n",
    "preds = torch.tensor([\n",
    "    [0.1, 0.2, 0.7],\n",
    "    [0.5, 0.3, 0.2],\n",
    "    [0.05, 0.85, 0.1]\n",
    "])\n",
    "targets = torch.argmax(torch.tensor([\n",
    "    [0, 0, 1],\n",
    "    [1, 0, 0],\n",
    "    [0, 1, 0]\n",
    "]), dim=1)\n",
    "\n",
    "top_k_accuracies = top_k_accuracy(preds, targets)\n",
    "print(top_k_accuracies)\n"
   ]
  }
 ],
 "metadata": {
  "kernelspec": {
   "display_name": "IBT",
   "language": "python",
   "name": "python3"
  },
  "language_info": {
   "codemirror_mode": {
    "name": "ipython",
    "version": 3
   },
   "file_extension": ".py",
   "mimetype": "text/x-python",
   "name": "python",
   "nbconvert_exporter": "python",
   "pygments_lexer": "ipython3",
   "version": "3.9.16"
  },
  "orig_nbformat": 4
 },
 "nbformat": 4,
 "nbformat_minor": 2
}
