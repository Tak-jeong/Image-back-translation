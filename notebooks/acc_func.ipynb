{
 "cells": [
  {
   "cell_type": "code",
   "execution_count": 2,
   "metadata": {},
   "outputs": [],
   "source": [
    "import os\n",
    "import sys\n",
    "sys.path.append(os.path.dirname(os.path.abspath(os.getcwd())))\n",
    "\n",
    "import torch\n",
    "from torchmetrics import Accuracy\n",
    "\n",
    "from src.data.components import CutMixUp\n",
    "\n"
   ]
  },
  {
   "cell_type": "code",
   "execution_count": 3,
   "metadata": {},
   "outputs": [
    {
     "name": "stdout",
     "output_type": "stream",
     "text": [
      "{'top_1': tensor(1.), 'top_2': tensor(1.)}\n"
     ]
    }
   ],
   "source": [
    "from torchmetrics import Accuracy\n",
    "\n",
    "def top_k_accuracy(preds, targets, top_k=(1, 2)):\n",
    "    top_k_accuracies = {}\n",
    "    \n",
    "    # Get the top k indices\n",
    "    top_k_indices = torch.topk(preds, max(top_k), dim=1)[1]\n",
    "    \n",
    "    for k in top_k:\n",
    "        correct = torch.any(top_k_indices[:, :k] == targets.unsqueeze(1), dim=1).float()\n",
    "        top_k_accuracies[f\"top_{k}\"] = correct.mean()\n",
    "        \n",
    "    return top_k_accuracies\n",
    "\n",
    "# 예제\n",
    "preds = torch.tensor([\n",
    "    [0.1, 0.2, 0.7],\n",
    "    [0.5, 0.3, 0.2],\n",
    "    [0.05, 0.85, 0.1]\n",
    "])\n",
    "targets = torch.argmax(torch.tensor([\n",
    "    [0, 0, 1],\n",
    "    [1, 0, 0],\n",
    "    [0, 1, 0]\n",
    "]), dim=1)\n",
    "\n",
    "top_k_accuracies = top_k_accuracy(preds, targets)\n",
    "print(top_k_accuracies)\n"
   ]
  }
 ],
 "metadata": {
  "kernelspec": {
   "display_name": "IBT",
   "language": "python",
   "name": "python3"
  },
  "language_info": {
   "codemirror_mode": {
    "name": "ipython",
    "version": 3
   },
   "file_extension": ".py",
   "mimetype": "text/x-python",
   "name": "python",
   "nbconvert_exporter": "python",
   "pygments_lexer": "ipython3",
   "version": "3.8.19"
  },
  "orig_nbformat": 4
 },
 "nbformat": 4,
 "nbformat_minor": 2
}
