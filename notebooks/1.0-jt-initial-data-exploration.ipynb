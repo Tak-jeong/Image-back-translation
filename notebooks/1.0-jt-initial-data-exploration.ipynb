{
 "cells": [
  {
   "cell_type": "code",
   "execution_count": 21,
   "metadata": {},
   "outputs": [],
   "source": [
    "# import torch\n",
    "# import torchvision.models as models\n",
    "# import torch.nn as nn\n",
    "# import torch.nn.functional as F\n",
    "# from torch.utils.data import Dataset\n",
    "# from lightning import LightningDataModule\n",
    "\n",
    "import pandas as pd\n",
    "import numpy as np\n",
    "from pathlib import Path\n",
    "import random"
   ]
  },
  {
   "cell_type": "code",
   "execution_count": null,
   "metadata": {},
   "outputs": [],
   "source": [
    "import os\n",
    "import random\n",
    "import shutil\n",
    "\n",
    "random.seed(42)  # random seed를 고정합니다.\n",
    "\n",
    "orig_train_dir = \"/home/tak/IBT/Image-back-translation/data/ImageNet1K/ILSVRC/Data/CLS-LOC/train\"\n",
    "new_train_dir = \"/home/tak/IBT/Image-back-translation/data/ImageNet1K/ILSVRC/Data/CLS-LOC/10cls_100_train\"\n",
    "\n",
    "# 원하는 클래스 목록입니다.\n",
    "class_list = [\n",
    "    'n02084071','n02134084',\n",
    "    'n04536866','n07745940', \n",
    "    'n03028079','n12985857',\n",
    "    'n02690373','n02783161', \n",
    "    'n03425413','n13054560',\n",
    "]\n",
    "\n",
    "os.makedirs(new_train_dir, exist_ok=True)\n",
    "\n",
    "for class_folder in class_list:\n",
    "    class_path = os.path.join(orig_train_dir, class_folder)\n",
    "    new_class_path = os.path.join(new_train_dir, class_folder)\n",
    "    os.makedirs(new_class_path, exist_ok=True)\n",
    "\n",
    "    if os.path.isdir(class_path):\n",
    "        image_list = os.listdir(class_path)\n",
    "        random.shuffle(image_list)\n",
    "        selected_images = image_list[:100]  # 원하는 이미지 개수를 선택합니다.\n",
    "\n",
    "        for image in selected_images:\n",
    "            src_path = os.path.join(class_path, image)\n",
    "            dst_path = os.path.join(new_class_path, image)\n",
    "            shutil.copy(src_path, dst_path)  # 이미지를 새로운 폴더에 복사합니다.\n"
   ]
  },
  {
   "cell_type": "code",
   "execution_count": 1,
   "metadata": {},
   "outputs": [],
   "source": [
    "## select 300 image per class randomly\n",
    "import os\n",
    "import random\n",
    "import shutil\n",
    "\n",
    "random.seed(42)  # random seed를 고정합니다.\n",
    "\n",
    "orig_train_dir = \"/home/tak/IBT/Image-back-translation/data/ImageNet1K/ILSVRC/Data/CLS-LOC/train\"\n",
    "new_train_dir = \"/home/tak/IBT/Image-back-translation/data/ImageNet1K/ILSVRC/Data/CLS-LOC/300_train\"\n",
    "\n",
    "os.makedirs(new_train_dir, exist_ok=True)\n",
    "\n",
    "for class_folder in os.listdir(orig_train_dir):\n",
    "    class_path = os.path.join(orig_train_dir, class_folder)\n",
    "    new_class_path = os.path.join(new_train_dir, class_folder)\n",
    "    os.makedirs(new_class_path, exist_ok=True)\n",
    "\n",
    "    if os.path.isdir(class_path):\n",
    "        image_list = os.listdir(class_path)\n",
    "        random.shuffle(image_list)\n",
    "        selected_images = image_list[:300]  # 원하는 이미지 개수를 선택합니다.\n",
    "\n",
    "        for image in selected_images:\n",
    "            src_path = os.path.join(class_path, image)\n",
    "            dst_path = os.path.join(new_class_path, image)\n",
    "            shutil.copy(src_path, dst_path)  # 이미지를 새로운 폴더에 복사합니다."
   ]
  },
  {
   "cell_type": "code",
   "execution_count": null,
   "metadata": {},
   "outputs": [],
   "source": [
    "def setup(self, stage: Optional[str] = None, data_option:Optional[str] = None):\n",
    "        if stage == 'fit' or stage is None:\n",
    "            train_path = os.path.join(self.data_dir, '300_train') #TODO: specify folder for training\n",
    "            full_train_dataset = datasets.ImageFolder(train_path,  self.transform)\n",
    "            self.train_dataset = self._filter_dataset(full_train_dataset)\n",
    "            if data_option == 'real':\n",
    "                full_train_dataset = datasets.ImageFolder(train_path,  self.transform)\n",
    "                self.train_dataset = self.train_dataset\n",
    "            if data_option =='diff':"
   ]
  },
  {
   "cell_type": "code",
   "execution_count": 4,
   "metadata": {},
   "outputs": [],
   "source": []
  },
  {
   "cell_type": "code",
   "execution_count": null,
   "metadata": {},
   "outputs": [],
   "source": []
  }
 ],
 "metadata": {
  "kernelspec": {
   "display_name": "IBT",
   "language": "python",
   "name": "python3"
  },
  "language_info": {
   "codemirror_mode": {
    "name": "ipython",
    "version": 3
   },
   "file_extension": ".py",
   "mimetype": "text/x-python",
   "name": "python",
   "nbconvert_exporter": "python",
   "pygments_lexer": "ipython3",
   "version": "3.9.16"
  },
  "orig_nbformat": 4
 },
 "nbformat": 4,
 "nbformat_minor": 2
}
